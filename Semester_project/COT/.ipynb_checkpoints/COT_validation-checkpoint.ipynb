{
 "cells": [
  {
   "cell_type": "code",
   "execution_count": 1,
   "id": "1187562b-7440-47c7-9c70-8fabcc029b37",
   "metadata": {},
   "outputs": [
    {
     "name": "stdout",
     "output_type": "stream",
     "text": [
      "Wed Sep 11 12:25:54 2024       \n",
      "+---------------------------------------------------------------------------------------+\n",
      "| NVIDIA-SMI 535.183.06             Driver Version: 535.183.06   CUDA Version: 12.2     |\n",
      "|-----------------------------------------+----------------------+----------------------+\n",
      "| GPU  Name                 Persistence-M | Bus-Id        Disp.A | Volatile Uncorr. ECC |\n",
      "| Fan  Temp   Perf          Pwr:Usage/Cap |         Memory-Usage | GPU-Util  Compute M. |\n",
      "|                                         |                      |               MIG M. |\n",
      "|=========================================+======================+======================|\n",
      "|   0  NVIDIA GeForce RTX 3090        On  | 00000000:C1:00.0 Off |                  N/A |\n",
      "|  0%   30C    P8              32W / 370W |      1MiB / 24576MiB |      0%      Default |\n",
      "|                                         |                      |                  N/A |\n",
      "+-----------------------------------------+----------------------+----------------------+\n",
      "                                                                                         \n",
      "+---------------------------------------------------------------------------------------+\n",
      "| Processes:                                                                            |\n",
      "|  GPU   GI   CI        PID   Type   Process name                            GPU Memory |\n",
      "|        ID   ID                                                             Usage      |\n",
      "|=======================================================================================|\n",
      "|  No running processes found                                                           |\n",
      "+---------------------------------------------------------------------------------------+\n"
     ]
    }
   ],
   "source": [
    "!nvidia-smi"
   ]
  },
  {
   "cell_type": "code",
   "execution_count": 2,
   "id": "01158cca-d2d7-4379-a321-b009f48e4d1c",
   "metadata": {
    "id": "j7ch3dDfYgsj"
   },
   "outputs": [
    {
     "name": "stdout",
     "output_type": "stream",
     "text": [
      "🦥 Unsloth: Will patch your computer to enable 2x faster free finetuning.\n"
     ]
    }
   ],
   "source": [
    "from unsloth import FastLanguageModel\n",
    "import torch\n",
    "import pandas as pd\n",
    "import numpy as np\n",
    "import random\n",
    "import datasets\n",
    "import re\n",
    "import json\n",
    "import gc \n",
    "import argparse\n",
    "import os\n",
    "from vllm import LLM, SamplingParams\n",
    "import evaluate\n",
    "from statistics import mean\n",
    "from evaluate import load\n",
    "from unsloth.chat_templates import get_chat_template\n",
    "from vllm import LLM, SamplingParams\n",
    "from transformers import AutoModel, AutoTokenizer\n",
    "pd.set_option('display.max_colwidth', None)  # None means unlimited width\n",
    "# Load the BERTScore evaluation metric\n",
    "bertscore = evaluate.load(\"bertscore\")\n",
    "\n",
    "\n",
    "MAX_SEQ_LENGTH = 1024 # Choose any! We auto support RoPE Scaling internally!\n",
    "DTYPE = None # None for auto detection. Float16 for Tesla T4, V100, Bfloat16 for Ampere+\n",
    "LOAD_IN_4BIT = False # Use 4bit quantization to reduce memory usage. Can be False.\n",
    "DATA_PATH = \"/cluster/home/pgoyal/main/test/COT/cot_train.csv\"\n",
    "model_dir = \"/cluster/project/sachan/piyushi/merged_models_COT\"\n",
    "# OUTPUT_PATH = \"/cluster/home/pgoyal/main/test/final_predictions_COT\"\n",
    "# checkpoint_path = '/cluster/project/sachan/piyushi/merged_models_COT/checkpoint-360'\n",
    "SEED = 42\n",
    "random.seed(SEED)"
   ]
  },
  {
   "cell_type": "code",
   "execution_count": 3,
   "id": "3729cfed-2da9-4eef-8397-d12a12dc746c",
   "metadata": {
    "colab": {
     "base_uri": "https://localhost:8080/",
     "height": 35
    },
    "id": "6175cb5e-e1c3-4d22-bdbc-335007e49ef9",
    "outputId": "96512995-ed4e-499a-cd49-b8bda1a3d810"
   },
   "outputs": [
    {
     "data": {
      "text/plain": [
       "'\\n1. No common IDs between train and validation.\\n2. See all IDs first [(id0-sample0, id1-sample0, id2-sample0,..., id1-sample1, id2-sample1, ...)]\\n'"
      ]
     },
     "execution_count": 3,
     "metadata": {},
     "output_type": "execute_result"
    }
   ],
   "source": [
    "\"\"\"\n",
    "1. No common IDs between train and validation.\n",
    "2. See all IDs first [(id0-sample0, id1-sample0, id2-sample0,..., id1-sample1, id2-sample1, ...)]\n",
    "\"\"\""
   ]
  },
  {
   "cell_type": "code",
   "execution_count": 4,
   "id": "776a7a75-908e-4eec-81c8-eaf511c2aba4",
   "metadata": {
    "id": "9db0176a-8b18-4d36-9e51-4986ac689947"
   },
   "outputs": [],
   "source": [
    "# Function to arrange dataframe such that the first n rows correspond to first n responses, and so on. \n",
    "# The idea is that the model sees all IDs first, instead of all responses from an ID \n",
    "def arrange_df(df, id_col='id', ques_col='question',response_col='response'):\n",
    "    df = df.sort_values(by=[id_col])\n",
    "    \n",
    "    # Group dataframe by 'id' column\n",
    "    grouped = df.groupby(id_col)\n",
    "    \n",
    "    # Initialize an empty list to store the arranged data\n",
    "    arranged_data = []\n",
    "    \n",
    "    # Get unique IDs and the maximum number of responses for any ID\n",
    "    unique_ids = df[id_col].unique()\n",
    "    max_responses = grouped.size().max()\n",
    "    \n",
    "    # Iterate over the number of responses (max_responses)\n",
    "    for i in range(max_responses):\n",
    "        # Iterate over unique IDs\n",
    "        for id_ in unique_ids:\n",
    "            # Get all responses and questions for the current ID\n",
    "            responses = grouped.get_group(id_)[response_col].tolist()\n",
    "            questions = grouped.get_group(id_)[ques_col].tolist()\n",
    "            # Append the ID, question, and response if available, else append None\n",
    "            if i < len(responses):\n",
    "                arranged_data.append({'id': id_, 'question': questions[i], 'response': responses[i]})\n",
    "            else:\n",
    "                arranged_data.append({'id': id_, 'question': None, 'response': None})\n",
    "    \n",
    "    # Create a new DataFrame from the arranged data\n",
    "    arranged_df = pd.DataFrame(arranged_data)\n",
    "    arranged_df = arranged_df.dropna(subset=['response'])\n",
    "    arranged_df.reset_index(drop=True, inplace=True)\n",
    "    print(arranged_df.head(10))\n",
    "    \n",
    "    assert(arranged_df.shape[0] == df.shape[0])\n",
    "    return arranged_df"
   ]
  },
  {
   "cell_type": "code",
   "execution_count": 5,
   "id": "a3d97e8d-6ddc-4fbc-8b9c-c1bc242d9a50",
   "metadata": {
    "id": "dc5N_JDvnMGO"
   },
   "outputs": [],
   "source": [
    "def split_data(df, ratio=0.8):\n",
    "    \"\"\"\n",
    "    Splits the data into train and validation sets ensuring no common IDs among them.\n",
    "    \"\"\"\n",
    "    ids = list(set(df['id'].tolist()))\n",
    "    random.shuffle(ids)\n",
    "\n",
    "    ntrain = int(ratio*len(ids))\n",
    "    train_ids = ids[:ntrain]\n",
    "    val_ids = ids[ntrain:]\n",
    "\n",
    "    df_train = df[df['id'].isin(train_ids)].copy()\n",
    "    df_val = df[df['id'].isin(val_ids)].copy()\n",
    "\n",
    "    print(\"Train shape: \", df_train.shape)\n",
    "    print(\"Val shape: \", df_val.shape)\n",
    "    print(\"Data distribution: Train: {:.2f}, Val: {:.2f}\".format(df_train.shape[0]/len(df), df_val.shape[0]/len(df)))\n",
    "\n",
    "    return df_train, df_val"
   ]
  },
  {
   "cell_type": "code",
   "execution_count": 6,
   "id": "367d9c5c-8cbb-4c3a-b347-d0fb7f301de3",
   "metadata": {
    "id": "K8yYb5xQnP-M"
   },
   "outputs": [],
   "source": [
    "def prepare_data(path=DATA_PATH, arrange_train=False, remove_train_duplicates=True, remove_val_duplicates=True, split_ratio=0.8):\n",
    "    df = pd.read_csv(path)\n",
    "    df.rename(columns={'answer':'response'}, inplace=True)\n",
    "    # Get Train and Val DFs\n",
    "    \n",
    "    df_train, df_val = split_data(df, split_ratio)\n",
    "    df_train = df_train.sort_values(by=['id'])\n",
    "    df_val = df_val.sort_values(by=['id'])\n",
    "    \n",
    "    if remove_train_duplicates:\n",
    "        print(\"Removing Train Duplicates\")\n",
    "        df_train = df_train.drop_duplicates(subset=['id'])\n",
    "        df_train.reset_index(drop=True, inplace=True) \n",
    "        print(df_train.shape)\n",
    "        print(df_train.head())\n",
    "    \n",
    "    # Arrange DF Train\n",
    "    if arrange_train:\n",
    "        df_train = arrange_df(df_train)\n",
    "    \n",
    "    # Remove Duplicates for Validation DF \n",
    "    if remove_val_duplicates:\n",
    "        print(\"Removing Val Duplicates\")\n",
    "        df_val = df_val.drop_duplicates(subset=['id'])\n",
    "        df_val.reset_index(drop=True, inplace=True)\n",
    "        print(df_val.shape)\n",
    "        print(df_val.head())\n",
    "        \n",
    "    # Convert to Dataset \n",
    "    dataset_train = datasets.Dataset.from_pandas(df_train[['id','question','response']].copy())\n",
    "    dataset_val = datasets.Dataset.from_pandas(df_val[['id','question','response']].copy())\n",
    "    \n",
    "    # Dataset Dict\n",
    "    ds = datasets.DatasetDict({\"train\":dataset_train, \"val\":dataset_val})\n",
    "    \n",
    "    print(ds)\n",
    "    return ds"
   ]
  },
  {
   "cell_type": "code",
   "execution_count": 7,
   "id": "bc864e5e-7057-4016-96c3-7e1211298afc",
   "metadata": {},
   "outputs": [],
   "source": [
    "def split_into_steps(text):\n",
    "    # Split the text by the newline character\n",
    "    steps = text.split('\\n')\n",
    "    \n",
    "    # Remove any empty strings and filter out steps that start with '####'\n",
    "    steps = [step for step in steps if step.strip() and not step.strip().startswith('####')]\n",
    "    \n",
    "    return steps"
   ]
  },
  {
   "cell_type": "code",
   "execution_count": 8,
   "id": "21f1a10e-b892-4e69-8ae5-6fe43327b7ac",
   "metadata": {
    "colab": {
     "base_uri": "https://localhost:8080/"
    },
    "id": "a1915e4d-08fb-4d37-86ea-e2c321200b4f",
    "outputId": "977926ec-9bd8-417b-b9bb-4457b390229d",
    "scrolled": true
   },
   "outputs": [
    {
     "name": "stdout",
     "output_type": "stream",
     "text": [
      "Train shape:  (5978, 3)\n",
      "Val shape:  (1495, 3)\n",
      "Data distribution: Train: 0.80, Val: 0.20\n",
      "Removing Train Duplicates\n",
      "(5978, 3)\n",
      "   id  \\\n",
      "0   1   \n",
      "1   2   \n",
      "2   3   \n",
      "3   6   \n",
      "4   7   \n",
      "\n",
      "                                                                                                                                                                                                                                                                                question  \\\n",
      "0                                                                                                                            Natalia sold clips to 48 of her friends in April, and then she sold half as many clips in May. How many clips did Natalia sell altogether in April and May?   \n",
      "1                                                                                                                                                                      Weng earns $12 an hour for babysitting. Yesterday, she just did 50 minutes of babysitting. How much did she earn?   \n",
      "2                   Betty is saving money for a new wallet which costs $100. Betty has only half of the money she needs. Her parents decided to give her $15 for that purpose, and her grandparents twice as much as her parents. How much more money does Betty need to buy the wallet?   \n",
      "3  Mark has a garden with flowers. He planted plants of three different colors in it. Ten of them are yellow, and there are 80% more of those in purple. There are only 25% as many green flowers as there are yellow and purple flowers. How many flowers does Mark have in his garden?   \n",
      "4                                                              Albert is wondering how much pizza he can eat in one day. He buys 2 large pizzas and 2 small pizzas. A large pizza has 16 slices and a small pizza has 8 slices. If he eats it all, how many pieces does he eat that day?   \n",
      "\n",
      "                                                                                                                                                                                                                                                                                                                                                                                           response  \n",
      "0                                                                                                                                                                                                                                                                  Natalia sold 48/2 = <<48/2=24>>24 clips in May.\\nNatalia sold 48+24 = <<48+24=72>>72 clips altogether in April and May.\\n#### 72  \n",
      "1                                                                                                                                                                                                                                                                            Weng earns 12/60 = $<<12/60=0.2>>0.2 per minute.\\nWorking 50 minutes, she earned 0.2 x 50 = $<<0.2*50=10>>10.\\n#### 10  \n",
      "2                                                                                                                                                                                              In the beginning, Betty has only 100 / 2 = $<<100/2=50>>50.\\nBetty's grandparents gave her 15 * 2 = $<<15*2=30>>30.\\nThis means, Betty needs 100 - 50 - 30 - 15 = $<<100-50-30-15=5>>5 more.\\n#### 5  \n",
      "3  There are 80/100 * 10 = <<80/100*10=8>>8 more purple flowers than yellow flowers.\\nSo in Mark's garden, there are 10 + 8 = <<10+8=18>>18 purple flowers.\\nPurple and yellow flowers sum up to 10 + 18 = <<10+18=28>>28 flowers.\\nThat means in Mark's garden there are 25/100 * 28 = <<25/100*28=7>>7 green flowers.\\nSo in total Mark has 28 + 7 = <<28+7=35>>35 plants in his garden.\\n#### 35  \n",
      "4                                                                                                                                                                                                      He eats 32 from the largest pizzas because 2 x 16 = <<2*16=32>>32\\nHe eats 16 from the small pizza because 2 x 8 = <<2*8=16>>16\\nHe eats 48 pieces because 32 + 16 = <<32+16=48>>48\\n#### 48  \n",
      "Removing Val Duplicates\n",
      "(1495, 3)\n",
      "   id  \\\n",
      "0   4   \n",
      "1   5   \n",
      "2  10   \n",
      "3  14   \n",
      "4  18   \n",
      "\n",
      "                                                                                                                                                                                                                                                                                                                       question  \\\n",
      "0                                                                                                   Julie is reading a 120-page book. Yesterday, she was able to read 12 pages and today, she read twice as many pages as yesterday. If she wants to read half of the remaining pages tomorrow, how many pages should she read?   \n",
      "1                                                                                                                                                                                                                       James writes a 3-page letter to 2 different friends twice a week.  How many pages does he write a year?   \n",
      "2                                                                                      Tina makes $18.00 an hour.  If she works more than 8 hours per shift, she is eligible for overtime, which is paid by your hourly wage + 1/2 your hourly wage.  If she works 10 hours every day for 5 days, how much money does she make?   \n",
      "3                                    Jasper will serve charcuterie at his dinner party. He buys 2 pounds of cheddar cheese for $10, a pound of cream cheese that cost half the price of the cheddar cheese, and a pack of cold cuts that cost twice the price of the cheddar cheese. How much does he spend on the ingredients?   \n",
      "4  In a truck, there are 26 pink hard hats, 15 green hard hats, and 24 yellow hard hats.  If Carl takes away 4 pink hard hats, and John takes away 6 pink hard hats and twice as many green hard hats as the number of pink hard hats that he removed, then calculate the total number of hard hats that remained in the truck.   \n",
      "\n",
      "                                                                                                                                                                                                                                                                                                                                                                                                                                                                                                                                                                                                                                                                                                                                                                                                                                                                   response  \n",
      "0                                                                                                                                                                                                                                                                                                                                                                                                                                                                                                                                                  Maila read 12 x 2 = <<12*2=24>>24 pages today.\\nSo she was able to read a total of 12 + 24 = <<12+24=36>>36 pages since yesterday.\\nThere are 120 - 36 = <<120-36=84>>84 pages left to be read.\\nSince she wants to read half of the remaining pages tomorrow, then she should read 84/2 = <<84/2=42>>42 pages.\\n#### 42  \n",
      "1                                                                                                                                                                                                                                                                                                                                                                                                                                                                                                                                                                                                                                                                                                     He writes each friend 3*2=<<3*2=6>>6 pages a week\\nSo he writes 6*2=<<6*2=12>>12 pages every week\\nThat means he writes 12*52=<<12*52=624>>624 pages a year\\n#### 624  \n",
      "2  She works 8 hours a day for $18 per hour so she makes 8*18 = $<<8*18=144.00>>144.00 per 8-hour shift\\nShe works 10 hours a day and anything over 8 hours is eligible for overtime, so she gets 10-8 = <<10-8=2>>2 hours of overtime\\nOvertime is calculated as time and a half so and she makes $18/hour so her overtime pay is 18*.5 = $<<18*.5=9.00>>9.00\\nHer overtime pay is 18+9 = $<<18+9=27.00>>27.00\\nHer base pay is $144.00 per 8-hour shift and she works 5 days and makes 5 * $144 = $<<144*5=720.00>>720.00\\nHer overtime pay is $27.00 per hour and she works 2 hours of overtime per day and makes 27*2 = $<<27*2=54.00>>54.00 in overtime pay\\n2 hours of overtime pay for 5 days means she makes 54*5 = $270.00\\nIn 5 days her base pay is $720.00 and she makes $270.00 in overtime pay so she makes $720 + $270 = $<<720+270=990.00>>990.00\\n#### 990  \n",
      "3                                                                                                                                                                                                                                                                                                                                                                                                                                                                                                                                                                                                                                                                                    A pound of cream cheese cost $10 / 2 = $<<10/2=5>>5.\\nA pack of cold cuts cost $10 x 2 = $<<10*2=20>>20.\\nJasper spent $10 + $5 + $20 = $<<10+5+20=35>>35 on the ingredients.\\n#### 35  \n",
      "4                                                                                                                                                                  If there were 26 pink hard hats and Carl took away 4 pink hard hats, the number of pink hard hats that remained is 26-4 = <<26-4=22>>22\\nJohn also took away 6 pink hard hats, leaving 22-6 = <<22-6=16>>16 pink hard hats in the truck.\\nIf John also took twice as many green hard hats as pink hard hats, he took 2*6 = <<6*2=12>>12 green hard hats.\\nThe total number of green hard hats that remained in the truck is 15-12 = <<15-12=3>>3\\nIn the truck, after some are taken, there were 3 green hard hats + 16 pink hard hats = <<3+16=19>>19 hard hats in the truck.\\nAltogether, 19 green and pink hard hats + 24 yellow hards hats = <<19+24=43>>43 hard hats remained in the truck\\n#### 43  \n",
      "DatasetDict({\n",
      "    train: Dataset({\n",
      "        features: ['id', 'question', 'response'],\n",
      "        num_rows: 5978\n",
      "    })\n",
      "    val: Dataset({\n",
      "        features: ['id', 'question', 'response'],\n",
      "        num_rows: 1495\n",
      "    })\n",
      "})\n"
     ]
    }
   ],
   "source": [
    "ds = prepare_data(split_ratio=0.8)"
   ]
  },
  {
   "cell_type": "code",
   "execution_count": 9,
   "id": "46cded54-2b30-4282-87e2-e9b26099b176",
   "metadata": {
    "id": "Z3D-wHhQ5W6p"
   },
   "outputs": [
    {
     "data": {
      "text/plain": [
       "{'id': 4,\n",
       " 'question': 'Julie is reading a 120-page book. Yesterday, she was able to read 12 pages and today, she read twice as many pages as yesterday. If she wants to read half of the remaining pages tomorrow, how many pages should she read?',\n",
       " 'response': 'Maila read 12 x 2 = <<12*2=24>>24 pages today.\\nSo she was able to read a total of 12 + 24 = <<12+24=36>>36 pages since yesterday.\\nThere are 120 - 36 = <<120-36=84>>84 pages left to be read.\\nSince she wants to read half of the remaining pages tomorrow, then she should read 84/2 = <<84/2=42>>42 pages.\\n#### 42'}"
      ]
     },
     "execution_count": 9,
     "metadata": {},
     "output_type": "execute_result"
    }
   ],
   "source": [
    "ds['val'][0]"
   ]
  },
  {
   "cell_type": "markdown",
   "id": "6a5037f4-f3be-48be-a05c-bebdce4fd869",
   "metadata": {},
   "source": [
    "### VALIDATION"
   ]
  },
  {
   "cell_type": "code",
   "execution_count": 10,
   "id": "7ac48a66-6440-44e5-bfe2-9e1878ccd160",
   "metadata": {},
   "outputs": [
    {
     "name": "stdout",
     "output_type": "stream",
     "text": [
      "Wed Sep 11 12:26:10 2024       \n",
      "+---------------------------------------------------------------------------------------+\n",
      "| NVIDIA-SMI 535.183.06             Driver Version: 535.183.06   CUDA Version: 12.2     |\n",
      "|-----------------------------------------+----------------------+----------------------+\n",
      "| GPU  Name                 Persistence-M | Bus-Id        Disp.A | Volatile Uncorr. ECC |\n",
      "| Fan  Temp   Perf          Pwr:Usage/Cap |         Memory-Usage | GPU-Util  Compute M. |\n",
      "|                                         |                      |               MIG M. |\n",
      "|=========================================+======================+======================|\n",
      "|   0  NVIDIA GeForce RTX 3090        On  | 00000000:C1:00.0 Off |                  N/A |\n",
      "|  0%   30C    P8              32W / 370W |      3MiB / 24576MiB |      0%      Default |\n",
      "|                                         |                      |                  N/A |\n",
      "+-----------------------------------------+----------------------+----------------------+\n",
      "                                                                                         \n",
      "+---------------------------------------------------------------------------------------+\n",
      "| Processes:                                                                            |\n",
      "|  GPU   GI   CI        PID   Type   Process name                            GPU Memory |\n",
      "|        ID   ID                                                             Usage      |\n",
      "|=======================================================================================|\n",
      "|  No running processes found                                                           |\n",
      "+---------------------------------------------------------------------------------------+\n"
     ]
    }
   ],
   "source": [
    "!nvidia-smi"
   ]
  },
  {
   "cell_type": "code",
   "execution_count": 11,
   "id": "7f89ded9-272c-4f63-9b5e-9db25142dd63",
   "metadata": {},
   "outputs": [],
   "source": [
    "def set_seed(seed):\n",
    "    random.seed(seed)\n",
    "    np.random.seed(seed)\n",
    "    torch.manual_seed(seed)\n",
    "    if torch.cuda.is_available():\n",
    "        torch.cuda.manual_seed_all(seed)\n",
    "\n",
    "set_seed(SEED)"
   ]
  },
  {
   "cell_type": "code",
   "execution_count": 12,
   "id": "983b6683-5476-4845-920a-db4a3e944e98",
   "metadata": {},
   "outputs": [],
   "source": [
    "def extract_ans(step):\n",
    "    pattern = r'<<.*?=(\\d+)>>'\n",
    "    match = re.search(pattern, step)\n",
    "    \n",
    "    if match:\n",
    "        return float(match.group(1))\n",
    "    \n",
    "    # Fallback to original pattern\n",
    "    number_pattern = r'[$]?[-+]?\\d+(?:\\.\\d+)?(?:,\\d+)*[$]?'\n",
    "    matches = re.findall(number_pattern, step)\n",
    "    \n",
    "    if matches:\n",
    "        cleaned_value = float(matches[-1].replace(\",\", \"\").replace(\" \", \"\").replace(\"\\n\", \"\").replace(\"$\", \"\").replace(\"x\", \"\"))\n",
    "        return cleaned_value\n",
    "    \n",
    "    return None"
   ]
  },
  {
   "cell_type": "code",
   "execution_count": 20,
   "id": "204f951d-1e16-427b-a654-576e22295d11",
   "metadata": {},
   "outputs": [
    {
     "data": {
      "text/html": [
       "<div>\n",
       "<style scoped>\n",
       "    .dataframe tbody tr th:only-of-type {\n",
       "        vertical-align: middle;\n",
       "    }\n",
       "\n",
       "    .dataframe tbody tr th {\n",
       "        vertical-align: top;\n",
       "    }\n",
       "\n",
       "    .dataframe thead th {\n",
       "        text-align: right;\n",
       "    }\n",
       "</style>\n",
       "<table border=\"1\" class=\"dataframe\">\n",
       "  <thead>\n",
       "    <tr style=\"text-align: right;\">\n",
       "      <th></th>\n",
       "      <th>question</th>\n",
       "      <th>correct_first_step</th>\n",
       "      <th>gt_ans</th>\n",
       "    </tr>\n",
       "  </thead>\n",
       "  <tbody>\n",
       "    <tr>\n",
       "      <th>0</th>\n",
       "      <td>Julie is reading a 120-page book. Yesterday, she was able to read 12 pages and today, she read twice as many pages as yesterday. If she wants to read half of the remaining pages tomorrow, how many pages should she read?</td>\n",
       "      <td>Maila read 12 x 2 = &lt;&lt;12*2=24&gt;&gt;24 pages today.</td>\n",
       "      <td>24.0</td>\n",
       "    </tr>\n",
       "    <tr>\n",
       "      <th>1</th>\n",
       "      <td>James writes a 3-page letter to 2 different friends twice a week.  How many pages does he write a year?</td>\n",
       "      <td>He writes each friend 3*2=&lt;&lt;3*2=6&gt;&gt;6 pages a week</td>\n",
       "      <td>6.0</td>\n",
       "    </tr>\n",
       "    <tr>\n",
       "      <th>2</th>\n",
       "      <td>Tina makes $18.00 an hour.  If she works more than 8 hours per shift, she is eligible for overtime, which is paid by your hourly wage + 1/2 your hourly wage.  If she works 10 hours every day for 5 days, how much money does she make?</td>\n",
       "      <td>She works 8 hours a day for $18 per hour so she makes 8*18 = $&lt;&lt;8*18=144.00&gt;&gt;144.00 per 8-hour shift</td>\n",
       "      <td>8.0</td>\n",
       "    </tr>\n",
       "    <tr>\n",
       "      <th>3</th>\n",
       "      <td>Jasper will serve charcuterie at his dinner party. He buys 2 pounds of cheddar cheese for $10, a pound of cream cheese that cost half the price of the cheddar cheese, and a pack of cold cuts that cost twice the price of the cheddar cheese. How much does he spend on the ingredients?</td>\n",
       "      <td>A pound of cream cheese cost $10 / 2 = $&lt;&lt;10/2=5&gt;&gt;5.</td>\n",
       "      <td>5.0</td>\n",
       "    </tr>\n",
       "    <tr>\n",
       "      <th>4</th>\n",
       "      <td>In a truck, there are 26 pink hard hats, 15 green hard hats, and 24 yellow hard hats.  If Carl takes away 4 pink hard hats, and John takes away 6 pink hard hats and twice as many green hard hats as the number of pink hard hats that he removed, then calculate the total number of hard hats that remained in the truck.</td>\n",
       "      <td>If there were 26 pink hard hats and Carl took away 4 pink hard hats, the number of pink hard hats that remained is 26-4 = &lt;&lt;26-4=22&gt;&gt;22</td>\n",
       "      <td>22.0</td>\n",
       "    </tr>\n",
       "  </tbody>\n",
       "</table>\n",
       "</div>"
      ],
      "text/plain": [
       "                                                                                                                                                                                                                                                                                                                       question  \\\n",
       "0                                                                                                   Julie is reading a 120-page book. Yesterday, she was able to read 12 pages and today, she read twice as many pages as yesterday. If she wants to read half of the remaining pages tomorrow, how many pages should she read?   \n",
       "1                                                                                                                                                                                                                       James writes a 3-page letter to 2 different friends twice a week.  How many pages does he write a year?   \n",
       "2                                                                                      Tina makes $18.00 an hour.  If she works more than 8 hours per shift, she is eligible for overtime, which is paid by your hourly wage + 1/2 your hourly wage.  If she works 10 hours every day for 5 days, how much money does she make?   \n",
       "3                                    Jasper will serve charcuterie at his dinner party. He buys 2 pounds of cheddar cheese for $10, a pound of cream cheese that cost half the price of the cheddar cheese, and a pack of cold cuts that cost twice the price of the cheddar cheese. How much does he spend on the ingredients?   \n",
       "4  In a truck, there are 26 pink hard hats, 15 green hard hats, and 24 yellow hard hats.  If Carl takes away 4 pink hard hats, and John takes away 6 pink hard hats and twice as many green hard hats as the number of pink hard hats that he removed, then calculate the total number of hard hats that remained in the truck.   \n",
       "\n",
       "                                                                                                                        correct_first_step  \\\n",
       "0                                                                                           Maila read 12 x 2 = <<12*2=24>>24 pages today.   \n",
       "1                                                                                        He writes each friend 3*2=<<3*2=6>>6 pages a week   \n",
       "2                                     She works 8 hours a day for $18 per hour so she makes 8*18 = $<<8*18=144.00>>144.00 per 8-hour shift   \n",
       "3                                                                                     A pound of cream cheese cost $10 / 2 = $<<10/2=5>>5.   \n",
       "4  If there were 26 pink hard hats and Carl took away 4 pink hard hats, the number of pink hard hats that remained is 26-4 = <<26-4=22>>22   \n",
       "\n",
       "   gt_ans  \n",
       "0    24.0  \n",
       "1     6.0  \n",
       "2     8.0  \n",
       "3     5.0  \n",
       "4    22.0  "
      ]
     },
     "execution_count": 20,
     "metadata": {},
     "output_type": "execute_result"
    }
   ],
   "source": [
    "questions = []\n",
    "true_val_step = []\n",
    "first_step_ans = []\n",
    "answers = []\n",
    "\n",
    "for item in ds['val']:\n",
    "    questions.append(item['question'])\n",
    "    steps = split_into_steps(item['response'])\n",
    "    true_val_step.append(steps[0])\n",
    "    first_step_ans.append(extract_ans(steps[0]))\n",
    "    # answers.append(item['response'])\n",
    "\n",
    "df_val = pd.DataFrame({\n",
    "    'question': questions,\n",
    "    # 'answer': answers\n",
    "    'correct_first_step': true_val_step,\n",
    "    'gt_ans': first_step_ans\n",
    "})\n",
    "\n",
    "df_val.head()"
   ]
  },
  {
   "cell_type": "code",
   "execution_count": 21,
   "id": "bd874bf6-e6c9-499c-a2c8-bfa4e984d5ed",
   "metadata": {},
   "outputs": [],
   "source": [
    "def get_accuracy(df_predictions):\n",
    "    # Initialize accuracy dictionary \n",
    "    acc_dict = {'checkpoint':[], 'bertscore_f1':[]}\n",
    "\n",
    "    # Get a list of columns with predictions \n",
    "    pred_cols = [col for col in list(df_predictions.columns) if col.startswith('predictions')]\n",
    "    \n",
    "    # Iterate over prediction columns \n",
    "    for pred_col in pred_cols:\n",
    "        # df_predictions['num_answer_{x}'.format(x=pred_col)] = df_predictions[pred_col].apply(lambda x: pred_labels(x))\n",
    "        # print(df_predictions.head())\n",
    "        # acc = np.round(100*(df_predictions['correct_first_step'] == df_predictions['num_answer_{x}'.format(x=pred_col)]).sum()/df_predictions.shape[0], 2)\n",
    "        results = bertscore.compute(predictions=df_predictions[pred_col].tolist(), references=df_predictions['correct_first_step'], lang='en')\n",
    "        bertscore_f1 = mean(results['f1'])\n",
    "\n",
    "        # Add BERTScore F1 score to the accuracy dictionary\n",
    "        acc_dict['bertscore_f1'].append(bertscore_f1)\n",
    "        acc_dict[\"checkpoint\"].append(pred_col)\n",
    "        # acc_dict['val_acc'].append(acc)\n",
    "\n",
    "    return pd.DataFrame(acc_dict)"
   ]
  },
  {
   "cell_type": "code",
   "execution_count": 22,
   "id": "c39e72a3-c5ab-4b57-a8c6-60dd03d7319b",
   "metadata": {},
   "outputs": [],
   "source": [
    "def predict_from_checkpoint_vllm(checkpoint_path, max_seq_len, questions):\n",
    "    llm = LLM(model=checkpoint_path)\n",
    "    sampling_params = SamplingParams(temperature=0, max_tokens=max_seq_len, stop=[\"Next steps:\", \"### Instruction\", \"### Input\"])\n",
    "    # sampling_params = SamplingParams(temperature=0, max_tokens=max_seq_len, stop=[\"### Instruction\", \"### Input\"])\n",
    "    predictions = []\n",
    "    tokenizer = get_chat_template(\n",
    "            AutoTokenizer.from_pretrained(checkpoint_path),  # Adjust this function to your needs\n",
    "            chat_template=\"chatml\",\n",
    "            mapping={\"role\": \"from\", \"content\": \"value\", \"user\": \"human\", \"assistant\": \"gemma\"},\n",
    "            map_eos_token=True\n",
    "        )\n",
    "    # Apply ChatML template to each question before generating\n",
    "    formatted_questions = [\n",
    "        tokenizer.apply_chat_template(\n",
    "            [{\"from\": \"human\", \"value\": f\"### Instruction:\\nCalculate only the first step for the following Math Word Problem\\n\\n### Input:\\n{question}\"}],\n",
    "            tokenize=True,\n",
    "            add_generation_prompt=True,\n",
    "            return_tensors=\"pt\"\n",
    "        ).to(\"cuda\")\n",
    "        for question in questions\n",
    "    ]\n",
    "    # Assuming formatted_questions is a list of tensors with input IDs\n",
    "    decoded_questions = []\n",
    "    for question_tensor in formatted_questions:\n",
    "        # Assuming that the tensor is structured to contain input IDs directly\n",
    "        token_ids = question_tensor.squeeze().tolist()\n",
    "        decoded_question = tokenizer.decode(token_ids, skip_special_tokens=True)\n",
    "        outputs = llm.generate(decoded_question, sampling_params)\n",
    "        for output in outputs:\n",
    "            prompt = output.prompt\n",
    "            generated_text = output.outputs[0].text\n",
    "            predictions.append(generated_text)\n",
    "    \n",
    "    # # Generate predictions\n",
    "    # for inputs in formatted_questions:\n",
    "    #     outputs = llm.generate(input_ids=inputs, max_new_tokens=max_seq_len, use_cache=True)\n",
    "    #     generated_text = tokenizer.batch_decode(outputs)[0]  # Decode the output\n",
    "    #     predictions.append(generated_text)\n",
    "\n",
    "    assert len(predictions) == len(questions)\n",
    "\n",
    "    # Free memory\n",
    "    torch.cuda.empty_cache()\n",
    "    del llm\n",
    "    del sampling_params\n",
    "    gc.collect()\n",
    "\n",
    "    return predictions"
   ]
  },
  {
   "cell_type": "code",
   "execution_count": 23,
   "id": "4b3fc822-c3c3-4720-94fb-1e7fd206ef78",
   "metadata": {},
   "outputs": [],
   "source": [
    "def run(model_dir):\n",
    "\n",
    "    # Load and preprocess validation data\n",
    "    # dataset_val = load_preprocess_data(model_dir)\n",
    "    checkpoint_paths = [os.path.join(model_dir, x) for x in os.listdir(model_dir) if x.startswith(\"checkpoint\")]\n",
    "\n",
    "    # Load checkpoints and predict in a loop\n",
    "    for checkpoint_path in checkpoint_paths:\n",
    "        predictions = predict_from_checkpoint_vllm(checkpoint_path, MAX_SEQ_LENGTH, df_val[\"question\"].tolist())\n",
    "        chk = checkpoint_path.split(\"/\")[-1]\n",
    "        df_val[f'predictions_{chk}'] = predictions\n",
    "        print(f\"Predictions from checkpoint {chk} completed\")\n",
    "        \n",
    "    # Save predictions\n",
    "    # df_val.to_csv(os.path.join(model_dir, 'df-val-preds-all-checkpoints.csv'), index=False)\n",
    "\n",
    "    # Calculate and display accuracy\n",
    "    df_acc = get_accuracy(df_val)\n",
    "    print(df_acc)\n",
    "    return df_acc"
   ]
  },
  {
   "cell_type": "markdown",
   "id": "167542ca-b8ad-4f1b-ab18-b49461a273d6",
   "metadata": {
    "jp-MarkdownHeadingCollapsed": true
   },
   "source": [
    "#### Alpaca prompt"
   ]
  },
  {
   "cell_type": "code",
   "execution_count": null,
   "id": "59e93ee2-e1ce-4e5c-b5da-edaddd4976a5",
   "metadata": {},
   "outputs": [],
   "source": [
    "# from vllm import LLM, SamplingParams\n",
    "# def predict_from_checkpoint_vllm(checkpoint_path, max_seq_len, questions):\n",
    "#     llm = LLM(model=checkpoint_path)\n",
    "#     sampling_params = SamplingParams(temperature=0, max_tokens=max_seq_len, stop={\"Step 2:\"})\n",
    "#     predictions = []\n",
    "#     outputs = llm.generate(questions, sampling_params)\n",
    "#     for output in outputs:\n",
    "#         prompt = output.prompt\n",
    "#         generated_text = output.outputs[0].text\n",
    "#         predictions.append(prompt + \"\\n\" + generated_text)\n",
    "    \n",
    "#     assert(len(predictions)==len(questions))\n",
    "\n",
    "#     # Free Memory \n",
    "#     torch.cuda.empty_cache()\n",
    "#     del llm\n",
    "#     del sampling_params \n",
    "#     gc.collect()\n",
    "\n",
    "#     return predictions"
   ]
  },
  {
   "cell_type": "code",
   "execution_count": null,
   "id": "bd5efd65-db1a-4b91-b611-3e09e3740e0e",
   "metadata": {},
   "outputs": [],
   "source": [
    "# ## Format Text\n",
    "# alpaca_val_prompt = \"\"\"Below is an instruction that describes a task, paired with an input that provides further context. Write a response that appropriately completes the request.\n",
    "\n",
    "# ### Instruction:\n",
    "# Calculate only the first step for the following Math Word Problem\n",
    "\n",
    "# ### Input:\n",
    "# {}\n",
    "\n",
    "# ### Answer in steps:\n",
    "# Step 1:{}\n",
    "# \"\"\"\n",
    "\n",
    "# # alpaca_prompt_continued = \"\"\"Below is an instruction that describes a task, paired with an input that provides further context. Continue from the first step and complete the response step by step for the following Math Word Problem.\n",
    "\n",
    "# # ### Instruction:\n",
    "# # Continue solving the following Math Word Problem step by step\n",
    "\n",
    "# # ### Input:\n",
    "# # {}\n",
    "\n",
    "# # ### Response:\n",
    "# # Step 2: \"\"\"\n",
    "\n",
    "# def format_question(q, prompt):\n",
    "#     return prompt.format(q,\"\")"
   ]
  },
  {
   "cell_type": "code",
   "execution_count": null,
   "id": "b4dbd5f3-a086-405d-85ed-0f601940f47e",
   "metadata": {},
   "outputs": [],
   "source": [
    "# def run(model_dir):\n",
    "#     # Load and preprocess val data\n",
    "#     # dataset_val = load_preprocess_data(model_dir)\n",
    "#     checkpoint_paths = [os.path.join(model_dir, x) for x in os.listdir(model_dir) if x.startswith(\"checkpoint\")]\n",
    "\n",
    "#     # Format Validation Questions \n",
    "#     formatted_questions = df_val[\"question\"].apply(lambda x: format_question(x, alpaca_val_prompt)).tolist()\n",
    "    \n",
    "#     # Load checkpoints and predict in a loop \n",
    "#     for checkpoint_path in checkpoint_paths:\n",
    "#         predictions = predict_from_checkpoint_vllm(checkpoint_path, MAX_SEQ_LENGTH, formatted_questions)\n",
    "#         chk = checkpoint_path.split(\"/\")[-1]\n",
    "#         df_val['predictions_{x}'.format(x=chk)] = predictions\n",
    "#         print(\"Predictions from checkpoint {chk} completed\".format(chk=chk))\n",
    "\n",
    "#     # Save DF \n",
    "#     # dataset_val.to_csv(os.path.join(model_dir, 'df-val-preds-all-checkpoints.csv'), index=False)\n",
    "\n",
    "#     # Get accuracy\n",
    "#     df_acc = get_accuracy(df_val)\n",
    "#     print(df_acc)"
   ]
  },
  {
   "cell_type": "markdown",
   "id": "5bc606da-0b23-4f82-af22-fe36b14b5796",
   "metadata": {},
   "source": [
    "#### Run"
   ]
  },
  {
   "cell_type": "code",
   "execution_count": 24,
   "id": "8bc0b307-29fc-4816-a52b-bcbc73c2a3de",
   "metadata": {
    "scrolled": true
   },
   "outputs": [
    {
     "name": "stdout",
     "output_type": "stream",
     "text": [
      "INFO 09-11 12:39:18 llm_engine.py:174] Initializing an LLM engine (v0.5.4) with config: model='/cluster/project/sachan/piyushi/merged_models_COT/checkpoint-181', speculative_config=None, tokenizer='/cluster/project/sachan/piyushi/merged_models_COT/checkpoint-181', skip_tokenizer_init=False, tokenizer_mode=auto, revision=None, rope_scaling=None, rope_theta=None, tokenizer_revision=None, trust_remote_code=False, dtype=torch.bfloat16, max_seq_len=8192, download_dir=None, load_format=LoadFormat.AUTO, tensor_parallel_size=1, pipeline_parallel_size=1, disable_custom_all_reduce=False, quantization=None, enforce_eager=False, kv_cache_dtype=auto, quantization_param_path=None, device_config=cuda, decoding_config=DecodingConfig(guided_decoding_backend='outlines'), observability_config=ObservabilityConfig(otlp_traces_endpoint=None), seed=0, served_model_name=/cluster/project/sachan/piyushi/merged_models_COT/checkpoint-181, use_v2_block_manager=False, enable_prefix_caching=False)\n",
      "INFO 09-11 12:39:19 model_runner.py:720] Starting to load model /cluster/project/sachan/piyushi/merged_models_COT/checkpoint-181...\n"
     ]
    },
    {
     "data": {
      "application/vnd.jupyter.widget-view+json": {
       "model_id": "6566811ec90f4e8197542455647da8c3",
       "version_major": 2,
       "version_minor": 0
      },
      "text/plain": [
       "Loading safetensors checkpoint shards:   0% Completed | 0/2 [00:00<?, ?it/s]\n"
      ]
     },
     "metadata": {},
     "output_type": "display_data"
    },
    {
     "name": "stdout",
     "output_type": "stream",
     "text": [
      "INFO 09-11 12:39:20 model_runner.py:732] Loading model weights took 4.7384 GB\n",
      "INFO 09-11 12:39:21 gpu_executor.py:102] # GPU blocks: 53375, # CPU blocks: 14563\n",
      "INFO 09-11 12:39:21 model_runner.py:1024] Capturing the model for CUDA graphs. This may lead to unexpected consequences if the model is not static. To run the model in eager mode, set 'enforce_eager=True' or use '--enforce-eager' in the CLI.\n",
      "INFO 09-11 12:39:21 model_runner.py:1028] CUDA graphs can take additional 1~3 GiB memory per GPU. If you are running out of memory, consider decreasing `gpu_memory_utilization` or enforcing eager mode. You can also reduce the `max_num_seqs` as needed to decrease memory usage.\n",
      "INFO 09-11 12:39:40 model_runner.py:1225] Graph capturing finished in 19 secs.\n",
      "<|im_start|> is already a token. Skipping.\n",
      "<|im_end|> is already a token. Skipping.\n"
     ]
    },
    {
     "name": "stderr",
     "output_type": "stream",
     "text": [
      "Processed prompts: 100%|██████████| 1495/1495 [00:22<00:00, 67.39it/s, est. speed input: 5769.94 toks/s, output: 2588.44 toks/s] \n"
     ]
    },
    {
     "name": "stdout",
     "output_type": "stream",
     "text": [
      "Predictions from checkpoint checkpoint-181 completed\n",
      "INFO 09-11 12:40:05 llm_engine.py:174] Initializing an LLM engine (v0.5.4) with config: model='/cluster/project/sachan/piyushi/merged_models_COT/checkpoint-272', speculative_config=None, tokenizer='/cluster/project/sachan/piyushi/merged_models_COT/checkpoint-272', skip_tokenizer_init=False, tokenizer_mode=auto, revision=None, rope_scaling=None, rope_theta=None, tokenizer_revision=None, trust_remote_code=False, dtype=torch.bfloat16, max_seq_len=8192, download_dir=None, load_format=LoadFormat.AUTO, tensor_parallel_size=1, pipeline_parallel_size=1, disable_custom_all_reduce=False, quantization=None, enforce_eager=False, kv_cache_dtype=auto, quantization_param_path=None, device_config=cuda, decoding_config=DecodingConfig(guided_decoding_backend='outlines'), observability_config=ObservabilityConfig(otlp_traces_endpoint=None), seed=0, served_model_name=/cluster/project/sachan/piyushi/merged_models_COT/checkpoint-272, use_v2_block_manager=False, enable_prefix_caching=False)\n",
      "INFO 09-11 12:40:07 model_runner.py:720] Starting to load model /cluster/project/sachan/piyushi/merged_models_COT/checkpoint-272...\n"
     ]
    },
    {
     "data": {
      "application/vnd.jupyter.widget-view+json": {
       "model_id": "4cea998eaa85490cb2fee1e78e13604a",
       "version_major": 2,
       "version_minor": 0
      },
      "text/plain": [
       "Loading safetensors checkpoint shards:   0% Completed | 0/2 [00:00<?, ?it/s]\n"
      ]
     },
     "metadata": {},
     "output_type": "display_data"
    },
    {
     "name": "stdout",
     "output_type": "stream",
     "text": [
      "INFO 09-11 12:40:08 model_runner.py:732] Loading model weights took 4.7384 GB\n",
      "INFO 09-11 12:40:09 gpu_executor.py:102] # GPU blocks: 53375, # CPU blocks: 14563\n",
      "INFO 09-11 12:40:09 model_runner.py:1024] Capturing the model for CUDA graphs. This may lead to unexpected consequences if the model is not static. To run the model in eager mode, set 'enforce_eager=True' or use '--enforce-eager' in the CLI.\n",
      "INFO 09-11 12:40:09 model_runner.py:1028] CUDA graphs can take additional 1~3 GiB memory per GPU. If you are running out of memory, consider decreasing `gpu_memory_utilization` or enforcing eager mode. You can also reduce the `max_num_seqs` as needed to decrease memory usage.\n",
      "INFO 09-11 12:40:28 model_runner.py:1225] Graph capturing finished in 19 secs.\n",
      "<|im_start|> is already a token. Skipping.\n",
      "<|im_end|> is already a token. Skipping.\n"
     ]
    },
    {
     "name": "stderr",
     "output_type": "stream",
     "text": [
      "Processed prompts: 100%|██████████| 1495/1495 [00:22<00:00, 67.56it/s, est. speed input: 5784.65 toks/s, output: 2584.41 toks/s] \n"
     ]
    },
    {
     "name": "stdout",
     "output_type": "stream",
     "text": [
      "Predictions from checkpoint checkpoint-272 completed\n",
      "INFO 09-11 12:40:53 llm_engine.py:174] Initializing an LLM engine (v0.5.4) with config: model='/cluster/project/sachan/piyushi/merged_models_COT/checkpoint-360', speculative_config=None, tokenizer='/cluster/project/sachan/piyushi/merged_models_COT/checkpoint-360', skip_tokenizer_init=False, tokenizer_mode=auto, revision=None, rope_scaling=None, rope_theta=None, tokenizer_revision=None, trust_remote_code=False, dtype=torch.bfloat16, max_seq_len=8192, download_dir=None, load_format=LoadFormat.AUTO, tensor_parallel_size=1, pipeline_parallel_size=1, disable_custom_all_reduce=False, quantization=None, enforce_eager=False, kv_cache_dtype=auto, quantization_param_path=None, device_config=cuda, decoding_config=DecodingConfig(guided_decoding_backend='outlines'), observability_config=ObservabilityConfig(otlp_traces_endpoint=None), seed=0, served_model_name=/cluster/project/sachan/piyushi/merged_models_COT/checkpoint-360, use_v2_block_manager=False, enable_prefix_caching=False)\n",
      "INFO 09-11 12:40:54 model_runner.py:720] Starting to load model /cluster/project/sachan/piyushi/merged_models_COT/checkpoint-360...\n"
     ]
    },
    {
     "data": {
      "application/vnd.jupyter.widget-view+json": {
       "model_id": "8b832daa85364ce0aec89fb54c99528d",
       "version_major": 2,
       "version_minor": 0
      },
      "text/plain": [
       "Loading safetensors checkpoint shards:   0% Completed | 0/2 [00:00<?, ?it/s]\n"
      ]
     },
     "metadata": {},
     "output_type": "display_data"
    },
    {
     "name": "stdout",
     "output_type": "stream",
     "text": [
      "INFO 09-11 12:40:55 model_runner.py:732] Loading model weights took 4.7384 GB\n",
      "INFO 09-11 12:40:56 gpu_executor.py:102] # GPU blocks: 53375, # CPU blocks: 14563\n",
      "INFO 09-11 12:40:57 model_runner.py:1024] Capturing the model for CUDA graphs. This may lead to unexpected consequences if the model is not static. To run the model in eager mode, set 'enforce_eager=True' or use '--enforce-eager' in the CLI.\n",
      "INFO 09-11 12:40:57 model_runner.py:1028] CUDA graphs can take additional 1~3 GiB memory per GPU. If you are running out of memory, consider decreasing `gpu_memory_utilization` or enforcing eager mode. You can also reduce the `max_num_seqs` as needed to decrease memory usage.\n",
      "INFO 09-11 12:41:15 model_runner.py:1225] Graph capturing finished in 19 secs.\n",
      "<|im_start|> is already a token. Skipping.\n",
      "<|im_end|> is already a token. Skipping.\n"
     ]
    },
    {
     "name": "stderr",
     "output_type": "stream",
     "text": [
      "Processed prompts: 100%|██████████| 1495/1495 [00:21<00:00, 69.08it/s, est. speed input: 5914.93 toks/s, output: 2620.99 toks/s] \n"
     ]
    },
    {
     "name": "stdout",
     "output_type": "stream",
     "text": [
      "Predictions from checkpoint checkpoint-360 completed\n",
      "INFO 09-11 12:41:40 llm_engine.py:174] Initializing an LLM engine (v0.5.4) with config: model='/cluster/project/sachan/piyushi/merged_models_COT/checkpoint-90', speculative_config=None, tokenizer='/cluster/project/sachan/piyushi/merged_models_COT/checkpoint-90', skip_tokenizer_init=False, tokenizer_mode=auto, revision=None, rope_scaling=None, rope_theta=None, tokenizer_revision=None, trust_remote_code=False, dtype=torch.bfloat16, max_seq_len=8192, download_dir=None, load_format=LoadFormat.AUTO, tensor_parallel_size=1, pipeline_parallel_size=1, disable_custom_all_reduce=False, quantization=None, enforce_eager=False, kv_cache_dtype=auto, quantization_param_path=None, device_config=cuda, decoding_config=DecodingConfig(guided_decoding_backend='outlines'), observability_config=ObservabilityConfig(otlp_traces_endpoint=None), seed=0, served_model_name=/cluster/project/sachan/piyushi/merged_models_COT/checkpoint-90, use_v2_block_manager=False, enable_prefix_caching=False)\n",
      "INFO 09-11 12:41:41 model_runner.py:720] Starting to load model /cluster/project/sachan/piyushi/merged_models_COT/checkpoint-90...\n"
     ]
    },
    {
     "data": {
      "application/vnd.jupyter.widget-view+json": {
       "model_id": "f7309ad42e6548e6af2cc9945a39565a",
       "version_major": 2,
       "version_minor": 0
      },
      "text/plain": [
       "Loading safetensors checkpoint shards:   0% Completed | 0/2 [00:00<?, ?it/s]\n"
      ]
     },
     "metadata": {},
     "output_type": "display_data"
    },
    {
     "name": "stdout",
     "output_type": "stream",
     "text": [
      "INFO 09-11 12:41:43 model_runner.py:732] Loading model weights took 4.7384 GB\n",
      "INFO 09-11 12:41:43 gpu_executor.py:102] # GPU blocks: 53375, # CPU blocks: 14563\n",
      "INFO 09-11 12:41:44 model_runner.py:1024] Capturing the model for CUDA graphs. This may lead to unexpected consequences if the model is not static. To run the model in eager mode, set 'enforce_eager=True' or use '--enforce-eager' in the CLI.\n",
      "INFO 09-11 12:41:44 model_runner.py:1028] CUDA graphs can take additional 1~3 GiB memory per GPU. If you are running out of memory, consider decreasing `gpu_memory_utilization` or enforcing eager mode. You can also reduce the `max_num_seqs` as needed to decrease memory usage.\n",
      "INFO 09-11 12:42:03 model_runner.py:1225] Graph capturing finished in 19 secs.\n",
      "<|im_start|> is already a token. Skipping.\n",
      "<|im_end|> is already a token. Skipping.\n"
     ]
    },
    {
     "name": "stderr",
     "output_type": "stream",
     "text": [
      "Processed prompts: 100%|██████████| 1495/1495 [00:22<00:00, 65.09it/s, est. speed input: 5573.44 toks/s, output: 2478.99 toks/s] \n"
     ]
    },
    {
     "name": "stdout",
     "output_type": "stream",
     "text": [
      "Predictions from checkpoint checkpoint-90 completed\n",
      "                   checkpoint  bertscore_f1\n",
      "0  predictions_checkpoint-181      0.905989\n",
      "1  predictions_checkpoint-272      0.905061\n",
      "2  predictions_checkpoint-360      0.906167\n",
      "3   predictions_checkpoint-90      0.894984\n"
     ]
    }
   ],
   "source": [
    "df_acc = run(model_dir)"
   ]
  },
  {
   "cell_type": "code",
   "execution_count": 25,
   "id": "a0cd28dd-c888-4ecf-9aae-58f15fe95d8f",
   "metadata": {
    "scrolled": true
   },
   "outputs": [
    {
     "data": {
      "text/html": [
       "<div>\n",
       "<style scoped>\n",
       "    .dataframe tbody tr th:only-of-type {\n",
       "        vertical-align: middle;\n",
       "    }\n",
       "\n",
       "    .dataframe tbody tr th {\n",
       "        vertical-align: top;\n",
       "    }\n",
       "\n",
       "    .dataframe thead th {\n",
       "        text-align: right;\n",
       "    }\n",
       "</style>\n",
       "<table border=\"1\" class=\"dataframe\">\n",
       "  <thead>\n",
       "    <tr style=\"text-align: right;\">\n",
       "      <th></th>\n",
       "      <th>question</th>\n",
       "      <th>correct_first_step</th>\n",
       "      <th>gt_ans</th>\n",
       "      <th>predictions_checkpoint-181</th>\n",
       "      <th>predictions_checkpoint-272</th>\n",
       "      <th>predictions_checkpoint-360</th>\n",
       "      <th>predictions_checkpoint-90</th>\n",
       "    </tr>\n",
       "  </thead>\n",
       "  <tbody>\n",
       "    <tr>\n",
       "      <th>0</th>\n",
       "      <td>Julie is reading a 120-page book. Yesterday, she was able to read 12 pages and today, she read twice as many pages as yesterday. If she wants to read half of the remaining pages tomorrow, how many pages should she read?</td>\n",
       "      <td>Maila read 12 x 2 = &lt;&lt;12*2=24&gt;&gt;24 pages today.</td>\n",
       "      <td>24.0</td>\n",
       "      <td>### First Step:\\nToday, Julie read 12 x 2 = &lt;&lt;12*2=24&gt;&gt;24 pages.</td>\n",
       "      <td>### First Step:\\nToday, Julie read 12 x 2 = &lt;&lt;12*2=24&gt;&gt;24 pages.</td>\n",
       "      <td>### First Step:\\nToday, Julie read 12 x 2 = &lt;&lt;12*2=24&gt;&gt;24 pages.</td>\n",
       "      <td>### First Step:\\nToday, Julie read 12 x 2 = &lt;&lt;12*2=24&gt;&gt;24 pages.</td>\n",
       "    </tr>\n",
       "    <tr>\n",
       "      <th>1</th>\n",
       "      <td>James writes a 3-page letter to 2 different friends twice a week.  How many pages does he write a year?</td>\n",
       "      <td>He writes each friend 3*2=&lt;&lt;3*2=6&gt;&gt;6 pages a week</td>\n",
       "      <td>6.0</td>\n",
       "      <td>### First Step:\\nHe writes 2 letters a week so that's 2*7=&lt;&lt;2*7=14&gt;&gt;14 pages a week</td>\n",
       "      <td>### First Step:\\nHe writes 2 letters a week so that's 2*52 = &lt;&lt;2*52=104&gt;&gt;104 pages</td>\n",
       "      <td>### First Step:\\nHe writes 2*2=&lt;&lt;2*2=4&gt;&gt;4 letters a week</td>\n",
       "      <td>### First Step:\\nHe writes 2 letters a week, so he writes 2*7=&lt;&lt;2*7=14&gt;&gt;14 pages a week.</td>\n",
       "    </tr>\n",
       "    <tr>\n",
       "      <th>2</th>\n",
       "      <td>Tina makes $18.00 an hour.  If she works more than 8 hours per shift, she is eligible for overtime, which is paid by your hourly wage + 1/2 your hourly wage.  If she works 10 hours every day for 5 days, how much money does she make?</td>\n",
       "      <td>She works 8 hours a day for $18 per hour so she makes 8*18 = $&lt;&lt;8*18=144.00&gt;&gt;144.00 per 8-hour shift</td>\n",
       "      <td>8.0</td>\n",
       "      <td>### First Step:\\nShe works 10 hours a day for 5 days so she works 10*5 = &lt;&lt;10*5=50&gt;&gt;50 hours</td>\n",
       "      <td>### First Step:\\nShe works 10 hours a day for 5 days so she works 10*5 = &lt;&lt;10*5=50&gt;&gt;50 hours</td>\n",
       "      <td>### First Step:\\nShe works 10 hours a day for 5 days so she works 10*5 = &lt;&lt;10*5=50&gt;&gt;50 hours</td>\n",
       "      <td>### First Step:\\nShe makes $18.00 an hour and works 10 hours every day for 5 days, so she makes 18*10*5 = $&lt;&lt;18*10*5=900&gt;&gt;900 per day.</td>\n",
       "    </tr>\n",
       "    <tr>\n",
       "      <th>3</th>\n",
       "      <td>Jasper will serve charcuterie at his dinner party. He buys 2 pounds of cheddar cheese for $10, a pound of cream cheese that cost half the price of the cheddar cheese, and a pack of cold cuts that cost twice the price of the cheddar cheese. How much does he spend on the ingredients?</td>\n",
       "      <td>A pound of cream cheese cost $10 / 2 = $&lt;&lt;10/2=5&gt;&gt;5.</td>\n",
       "      <td>5.0</td>\n",
       "      <td>### First Step:\\nThe cream cheese cost 10/2 = $&lt;&lt;10/2=5&gt;&gt;5.</td>\n",
       "      <td>### First Step:\\nThe cream cheese costs 10 / 2 = $&lt;&lt;10/2=5&gt;&gt;5.</td>\n",
       "      <td>### First Step:\\nThe cream cheese costs 10 / 2 = $&lt;&lt;10/2=5&gt;&gt;5.</td>\n",
       "      <td>### First Step:\\nThe price of the cream cheese is 10/2 = $&lt;&lt;10/2=5&gt;&gt;5.</td>\n",
       "    </tr>\n",
       "    <tr>\n",
       "      <th>4</th>\n",
       "      <td>In a truck, there are 26 pink hard hats, 15 green hard hats, and 24 yellow hard hats.  If Carl takes away 4 pink hard hats, and John takes away 6 pink hard hats and twice as many green hard hats as the number of pink hard hats that he removed, then calculate the total number of hard hats that remained in the truck.</td>\n",
       "      <td>If there were 26 pink hard hats and Carl took away 4 pink hard hats, the number of pink hard hats that remained is 26-4 = &lt;&lt;26-4=22&gt;&gt;22</td>\n",
       "      <td>22.0</td>\n",
       "      <td>### First Step:\\nCarl takes away 4 pink hard hats, so there are 26 - 4 = &lt;&lt;26-4=22&gt;&gt;22 pink hard hats left.</td>\n",
       "      <td>### First Step:\\nCarl removes 4 pink hard hats, so there are 26 - 4 = &lt;&lt;26-4=22&gt;&gt;22 pink hard hats left.</td>\n",
       "      <td>### First Step:\\nCarl removes 4 pink hard hats, so the total number of pink hard hats in the truck is 26 hard hats - 4 hard hats = &lt;&lt;26-4=22&gt;&gt;22 hard hats.</td>\n",
       "      <td>### First Step:\\nFirst find the total number of hard hats that Carl took away: 26 hard hats - 4 hard hats = &lt;&lt;26-4=22&gt;&gt;22 hard hats</td>\n",
       "    </tr>\n",
       "  </tbody>\n",
       "</table>\n",
       "</div>"
      ],
      "text/plain": [
       "                                                                                                                                                                                                                                                                                                                       question  \\\n",
       "0                                                                                                   Julie is reading a 120-page book. Yesterday, she was able to read 12 pages and today, she read twice as many pages as yesterday. If she wants to read half of the remaining pages tomorrow, how many pages should she read?   \n",
       "1                                                                                                                                                                                                                       James writes a 3-page letter to 2 different friends twice a week.  How many pages does he write a year?   \n",
       "2                                                                                      Tina makes $18.00 an hour.  If she works more than 8 hours per shift, she is eligible for overtime, which is paid by your hourly wage + 1/2 your hourly wage.  If she works 10 hours every day for 5 days, how much money does she make?   \n",
       "3                                    Jasper will serve charcuterie at his dinner party. He buys 2 pounds of cheddar cheese for $10, a pound of cream cheese that cost half the price of the cheddar cheese, and a pack of cold cuts that cost twice the price of the cheddar cheese. How much does he spend on the ingredients?   \n",
       "4  In a truck, there are 26 pink hard hats, 15 green hard hats, and 24 yellow hard hats.  If Carl takes away 4 pink hard hats, and John takes away 6 pink hard hats and twice as many green hard hats as the number of pink hard hats that he removed, then calculate the total number of hard hats that remained in the truck.   \n",
       "\n",
       "                                                                                                                        correct_first_step  \\\n",
       "0                                                                                           Maila read 12 x 2 = <<12*2=24>>24 pages today.   \n",
       "1                                                                                        He writes each friend 3*2=<<3*2=6>>6 pages a week   \n",
       "2                                     She works 8 hours a day for $18 per hour so she makes 8*18 = $<<8*18=144.00>>144.00 per 8-hour shift   \n",
       "3                                                                                     A pound of cream cheese cost $10 / 2 = $<<10/2=5>>5.   \n",
       "4  If there were 26 pink hard hats and Carl took away 4 pink hard hats, the number of pink hard hats that remained is 26-4 = <<26-4=22>>22   \n",
       "\n",
       "   gt_ans  \\\n",
       "0    24.0   \n",
       "1     6.0   \n",
       "2     8.0   \n",
       "3     5.0   \n",
       "4    22.0   \n",
       "\n",
       "                                                                                    predictions_checkpoint-181  \\\n",
       "0                                             ### First Step:\\nToday, Julie read 12 x 2 = <<12*2=24>>24 pages.   \n",
       "1                          ### First Step:\\nHe writes 2 letters a week so that's 2*7=<<2*7=14>>14 pages a week   \n",
       "2                 ### First Step:\\nShe works 10 hours a day for 5 days so she works 10*5 = <<10*5=50>>50 hours   \n",
       "3                                                  ### First Step:\\nThe cream cheese cost 10/2 = $<<10/2=5>>5.   \n",
       "4  ### First Step:\\nCarl takes away 4 pink hard hats, so there are 26 - 4 = <<26-4=22>>22 pink hard hats left.   \n",
       "\n",
       "                                                                                 predictions_checkpoint-272  \\\n",
       "0                                          ### First Step:\\nToday, Julie read 12 x 2 = <<12*2=24>>24 pages.   \n",
       "1                        ### First Step:\\nHe writes 2 letters a week so that's 2*52 = <<2*52=104>>104 pages   \n",
       "2              ### First Step:\\nShe works 10 hours a day for 5 days so she works 10*5 = <<10*5=50>>50 hours   \n",
       "3                                            ### First Step:\\nThe cream cheese costs 10 / 2 = $<<10/2=5>>5.   \n",
       "4  ### First Step:\\nCarl removes 4 pink hard hats, so there are 26 - 4 = <<26-4=22>>22 pink hard hats left.   \n",
       "\n",
       "                                                                                                                                    predictions_checkpoint-360  \\\n",
       "0                                                                                             ### First Step:\\nToday, Julie read 12 x 2 = <<12*2=24>>24 pages.   \n",
       "1                                                                                                     ### First Step:\\nHe writes 2*2=<<2*2=4>>4 letters a week   \n",
       "2                                                                 ### First Step:\\nShe works 10 hours a day for 5 days so she works 10*5 = <<10*5=50>>50 hours   \n",
       "3                                                                                               ### First Step:\\nThe cream cheese costs 10 / 2 = $<<10/2=5>>5.   \n",
       "4  ### First Step:\\nCarl removes 4 pink hard hats, so the total number of pink hard hats in the truck is 26 hard hats - 4 hard hats = <<26-4=22>>22 hard hats.   \n",
       "\n",
       "                                                                                                                predictions_checkpoint-90  \n",
       "0                                                                        ### First Step:\\nToday, Julie read 12 x 2 = <<12*2=24>>24 pages.  \n",
       "1                                                ### First Step:\\nHe writes 2 letters a week, so he writes 2*7=<<2*7=14>>14 pages a week.  \n",
       "2  ### First Step:\\nShe makes $18.00 an hour and works 10 hours every day for 5 days, so she makes 18*10*5 = $<<18*10*5=900>>900 per day.  \n",
       "3                                                                  ### First Step:\\nThe price of the cream cheese is 10/2 = $<<10/2=5>>5.  \n",
       "4     ### First Step:\\nFirst find the total number of hard hats that Carl took away: 26 hard hats - 4 hard hats = <<26-4=22>>22 hard hats  "
      ]
     },
     "execution_count": 25,
     "metadata": {},
     "output_type": "execute_result"
    }
   ],
   "source": [
    "df_val.head()"
   ]
  },
  {
   "cell_type": "code",
   "execution_count": 26,
   "id": "017b6e30-7273-44cb-bc72-9375e50c5723",
   "metadata": {},
   "outputs": [
    {
     "data": {
      "text/html": [
       "<div>\n",
       "<style scoped>\n",
       "    .dataframe tbody tr th:only-of-type {\n",
       "        vertical-align: middle;\n",
       "    }\n",
       "\n",
       "    .dataframe tbody tr th {\n",
       "        vertical-align: top;\n",
       "    }\n",
       "\n",
       "    .dataframe thead th {\n",
       "        text-align: right;\n",
       "    }\n",
       "</style>\n",
       "<table border=\"1\" class=\"dataframe\">\n",
       "  <thead>\n",
       "    <tr style=\"text-align: right;\">\n",
       "      <th></th>\n",
       "      <th>question</th>\n",
       "      <th>correct_first_step</th>\n",
       "      <th>gt_ans</th>\n",
       "      <th>pred_first_step</th>\n",
       "    </tr>\n",
       "  </thead>\n",
       "  <tbody>\n",
       "    <tr>\n",
       "      <th>0</th>\n",
       "      <td>Julie is reading a 120-page book. Yesterday, she was able to read 12 pages and today, she read twice as many pages as yesterday. If she wants to read half of the remaining pages tomorrow, how many pages should she read?</td>\n",
       "      <td>Maila read 12 x 2 = &lt;&lt;12*2=24&gt;&gt;24 pages today.</td>\n",
       "      <td>24.0</td>\n",
       "      <td>Today, Julie read 12 x 2 = &lt;&lt;12*2=24&gt;&gt;24 pages.</td>\n",
       "    </tr>\n",
       "    <tr>\n",
       "      <th>1</th>\n",
       "      <td>James writes a 3-page letter to 2 different friends twice a week.  How many pages does he write a year?</td>\n",
       "      <td>He writes each friend 3*2=&lt;&lt;3*2=6&gt;&gt;6 pages a week</td>\n",
       "      <td>6.0</td>\n",
       "      <td>He writes 2*2=&lt;&lt;2*2=4&gt;&gt;4 letters a week</td>\n",
       "    </tr>\n",
       "    <tr>\n",
       "      <th>2</th>\n",
       "      <td>Tina makes $18.00 an hour.  If she works more than 8 hours per shift, she is eligible for overtime, which is paid by your hourly wage + 1/2 your hourly wage.  If she works 10 hours every day for 5 days, how much money does she make?</td>\n",
       "      <td>She works 8 hours a day for $18 per hour so she makes 8*18 = $&lt;&lt;8*18=144.00&gt;&gt;144.00 per 8-hour shift</td>\n",
       "      <td>8.0</td>\n",
       "      <td>She works 10 hours a day for 5 days so she works 10*5 = &lt;&lt;10*5=50&gt;&gt;50 hours</td>\n",
       "    </tr>\n",
       "    <tr>\n",
       "      <th>3</th>\n",
       "      <td>Jasper will serve charcuterie at his dinner party. He buys 2 pounds of cheddar cheese for $10, a pound of cream cheese that cost half the price of the cheddar cheese, and a pack of cold cuts that cost twice the price of the cheddar cheese. How much does he spend on the ingredients?</td>\n",
       "      <td>A pound of cream cheese cost $10 / 2 = $&lt;&lt;10/2=5&gt;&gt;5.</td>\n",
       "      <td>5.0</td>\n",
       "      <td>The cream cheese costs 10 / 2 = $&lt;&lt;10/2=5&gt;&gt;5.</td>\n",
       "    </tr>\n",
       "    <tr>\n",
       "      <th>4</th>\n",
       "      <td>In a truck, there are 26 pink hard hats, 15 green hard hats, and 24 yellow hard hats.  If Carl takes away 4 pink hard hats, and John takes away 6 pink hard hats and twice as many green hard hats as the number of pink hard hats that he removed, then calculate the total number of hard hats that remained in the truck.</td>\n",
       "      <td>If there were 26 pink hard hats and Carl took away 4 pink hard hats, the number of pink hard hats that remained is 26-4 = &lt;&lt;26-4=22&gt;&gt;22</td>\n",
       "      <td>22.0</td>\n",
       "      <td>Carl removes 4 pink hard hats, so the total number of pink hard hats in the truck is 26 hard hats - 4 hard hats = &lt;&lt;26-4=22&gt;&gt;22 hard hats.</td>\n",
       "    </tr>\n",
       "  </tbody>\n",
       "</table>\n",
       "</div>"
      ],
      "text/plain": [
       "                                                                                                                                                                                                                                                                                                                       question  \\\n",
       "0                                                                                                   Julie is reading a 120-page book. Yesterday, she was able to read 12 pages and today, she read twice as many pages as yesterday. If she wants to read half of the remaining pages tomorrow, how many pages should she read?   \n",
       "1                                                                                                                                                                                                                       James writes a 3-page letter to 2 different friends twice a week.  How many pages does he write a year?   \n",
       "2                                                                                      Tina makes $18.00 an hour.  If she works more than 8 hours per shift, she is eligible for overtime, which is paid by your hourly wage + 1/2 your hourly wage.  If she works 10 hours every day for 5 days, how much money does she make?   \n",
       "3                                    Jasper will serve charcuterie at his dinner party. He buys 2 pounds of cheddar cheese for $10, a pound of cream cheese that cost half the price of the cheddar cheese, and a pack of cold cuts that cost twice the price of the cheddar cheese. How much does he spend on the ingredients?   \n",
       "4  In a truck, there are 26 pink hard hats, 15 green hard hats, and 24 yellow hard hats.  If Carl takes away 4 pink hard hats, and John takes away 6 pink hard hats and twice as many green hard hats as the number of pink hard hats that he removed, then calculate the total number of hard hats that remained in the truck.   \n",
       "\n",
       "                                                                                                                        correct_first_step  \\\n",
       "0                                                                                           Maila read 12 x 2 = <<12*2=24>>24 pages today.   \n",
       "1                                                                                        He writes each friend 3*2=<<3*2=6>>6 pages a week   \n",
       "2                                     She works 8 hours a day for $18 per hour so she makes 8*18 = $<<8*18=144.00>>144.00 per 8-hour shift   \n",
       "3                                                                                     A pound of cream cheese cost $10 / 2 = $<<10/2=5>>5.   \n",
       "4  If there were 26 pink hard hats and Carl took away 4 pink hard hats, the number of pink hard hats that remained is 26-4 = <<26-4=22>>22   \n",
       "\n",
       "   gt_ans  \\\n",
       "0    24.0   \n",
       "1     6.0   \n",
       "2     8.0   \n",
       "3     5.0   \n",
       "4    22.0   \n",
       "\n",
       "                                                                                                                              pred_first_step  \n",
       "0                                                                                             Today, Julie read 12 x 2 = <<12*2=24>>24 pages.  \n",
       "1                                                                                                     He writes 2*2=<<2*2=4>>4 letters a week  \n",
       "2                                                                 She works 10 hours a day for 5 days so she works 10*5 = <<10*5=50>>50 hours  \n",
       "3                                                                                               The cream cheese costs 10 / 2 = $<<10/2=5>>5.  \n",
       "4  Carl removes 4 pink hard hats, so the total number of pink hard hats in the truck is 26 hard hats - 4 hard hats = <<26-4=22>>22 hard hats.  "
      ]
     },
     "execution_count": 26,
     "metadata": {},
     "output_type": "execute_result"
    }
   ],
   "source": [
    "# Find the checkpoint with the highest bertscore_f1\n",
    "best_f1_row = df_acc.loc[df_acc['bertscore_f1'].idxmax()]\n",
    "best_checkpoint = best_f1_row['checkpoint']\n",
    "\n",
    "# Drop all columns in df_val that are not the best checkpoint\n",
    "cols_to_drop = [col for col in df_val.columns if col.startswith('predictions_') and col != best_checkpoint]\n",
    "df_val = df_val.drop(columns=cols_to_drop)\n",
    "\n",
    "# Rename the best checkpoint column to 'pred_first_step'\n",
    "df_val = df_val.rename(columns={best_checkpoint: 'pred_first_step'})\n",
    "# Remove '### First Step:\\n' from the 'pred_first_step' column\n",
    "df_val['pred_first_step'] = df_val['pred_first_step'].str.replace('### First Step:\\n', '', regex=False)\n",
    "# Display the result\n",
    "# Save DataFrame to a Pickle file\n",
    "df_val.to_pickle('dfval.pkl')\n",
    "df_val.head()"
   ]
  },
  {
   "cell_type": "code",
   "execution_count": null,
   "id": "0e8c217b-d236-469f-9a27-4133ed30f6d6",
   "metadata": {},
   "outputs": [],
   "source": [
    "# Load DataFrame from a Pickle file\n",
    "df_val = pd.read_pickle('cluster/home/pgoyal/main/test/COT/dfs/gemma2_9b/dfval.pkl')"
   ]
  },
  {
   "cell_type": "code",
   "execution_count": null,
   "id": "c637b7e3-7693-4366-9cfd-55266607a2f2",
   "metadata": {
    "scrolled": true
   },
   "outputs": [],
   "source": [
    "def first_and_final(index, text):\n",
    "    first=final=\"\"\n",
    "    first = text.split(\"\\n\")[0].strip()\n",
    "    if \"####\" in text:\n",
    "        final = text.split(\"####\")[1].strip()\n",
    "    else: print(index, text)\n",
    "    return first, final\n",
    "\n",
    "count_first = 0\n",
    "tot_first = 0\n",
    "count_final = 0\n",
    "tot_final = 0\n",
    "\n",
    "for index, row in df_val.iterrows(): \n",
    "    ans = row['pred_first_step']\n",
    "    if \"### Answer:\\n\" in ans:\n",
    "        tot_first += 1\n",
    "        only_ans = ans.split(\"### Answer:\\n\")[1].strip()\n",
    "        pred_first, pred_final = first_and_final(index, only_ans)\n",
    "        gt_ans = row['answer']\n",
    "        gt_first, gt_final = first_and_final(index, gt_ans)\n",
    "        pred_first_ans = get_final_ans(pred_first)\n",
    "        gt_first_ans = get_final_ans(gt_first)\n",
    "        if gt_first_ans == pred_first_ans:\n",
    "            count_first += 1\n",
    "            if pred_final != \"\":\n",
    "                tot_final += 1\n",
    "                if gt_final == pred_final:\n",
    "                    count_final += 1\n",
    "        # gt_ans = row['answer']\n",
    "    # gt_first, gt_final = first_and_final(index, gt_ans)\n",
    "    # pred_first_ans = get_final_ans(pred_first)\n",
    "    # gt_first_ans = get_final_ans(gt_first)\n",
    "    # if gt_first_ans == pred_first_ans:\n",
    "    #     count_first += 1\n",
    "    # if pred_final != \"\" and gt_final == pred_final:\n",
    "    #     count_final += 1\n",
    "print(tot_first, tot_final)\n",
    "print(f\"First answer accuracy = {count_first/tot_first}\")\n",
    "print(f\"Final answer accuracy = {count_final/tot_final}\")"
   ]
  }
 ],
 "metadata": {
  "kernelspec": {
   "display_name": "sem_project",
   "language": "python",
   "name": "sem_project"
  },
  "language_info": {
   "codemirror_mode": {
    "name": "ipython",
    "version": 3
   },
   "file_extension": ".py",
   "mimetype": "text/x-python",
   "name": "python",
   "nbconvert_exporter": "python",
   "pygments_lexer": "ipython3",
   "version": "3.11.6"
  },
  "widgets": {
   "application/vnd.jupyter.widget-state+json": {
    "state": {},
    "version_major": 2,
    "version_minor": 0
   }
  }
 },
 "nbformat": 4,
 "nbformat_minor": 5
}
